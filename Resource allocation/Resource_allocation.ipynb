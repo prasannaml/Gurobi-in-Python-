{
  "nbformat": 4,
  "nbformat_minor": 0,
  "metadata": {
    "colab": {
      "provenance": [],
      "authorship_tag": "ABX9TyOHgSv2vMvOgxzSsjXKzB/H",
      "include_colab_link": true
    },
    "kernelspec": {
      "name": "python3",
      "display_name": "Python 3"
    },
    "language_info": {
      "name": "python"
    }
  },
  "cells": [
    {
      "cell_type": "markdown",
      "metadata": {
        "id": "view-in-github",
        "colab_type": "text"
      },
      "source": [
        "<a href=\"https://colab.research.google.com/github/prasannaml/Gurobi-in-Python-/blob/main/Resource_allocation.ipynb\" target=\"_parent\"><img src=\"https://colab.research.google.com/assets/colab-badge.svg\" alt=\"Open In Colab\"/></a>"
      ]
    },
    {
      "cell_type": "code",
      "source": [
        "#install gurobi library\n",
        "%pip install gurobipy\n",
        ""
      ],
      "metadata": {
        "colab": {
          "base_uri": "https://localhost:8080/"
        },
        "id": "jdpB5fDgsHzZ",
        "outputId": "fae4bbe1-bce9-4672-c34a-14911ee0b3d0"
      },
      "execution_count": 4,
      "outputs": [
        {
          "output_type": "stream",
          "name": "stdout",
          "text": [
            "Collecting gurobipy\n",
            "  Downloading gurobipy-10.0.2-cp310-cp310-manylinux2014_x86_64.whl (12.7 MB)\n",
            "\u001b[2K     \u001b[90m━━━━━━━━━━━━━━━━━━━━━━━━━━━━━━━━━━━━━━━━\u001b[0m \u001b[32m12.7/12.7 MB\u001b[0m \u001b[31m25.0 MB/s\u001b[0m eta \u001b[36m0:00:00\u001b[0m\n",
            "\u001b[?25hInstalling collected packages: gurobipy\n",
            "Successfully installed gurobipy-10.0.2\n"
          ]
        }
      ]
    },
    {
      "cell_type": "code",
      "source": [
        "#import library\n",
        "from gurobipy import *\n"
      ],
      "metadata": {
        "id": "ekc4XAMKtHR6"
      },
      "execution_count": 5,
      "outputs": []
    },
    {
      "cell_type": "code",
      "source": [
        "# resources and jobs\n",
        "R =['kumaran','velan','arasan']\n",
        "J = ['Tester','Dev','Architect']"
      ],
      "metadata": {
        "id": "XXzfpGSytS9z"
      },
      "execution_count": 11,
      "outputs": []
    },
    {
      "cell_type": "code",
      "source": [
        "#multidict describes matching score data\n",
        "\n",
        "combinations, ms = multidict({\n",
        "    ('kumaran','Tester'):53,\n",
        "    ('kumaran','Dev'):27,\n",
        "    ('kumaran','Architect'):13,\n",
        "    ('velan','Tester'):80,\n",
        "    ('velan','Dev'):47,\n",
        "    ('velan','Architect'):67,\n",
        "    ('arasan','Tester'):53,\n",
        "     ('arasan','Dev'):73,\n",
        "    ('arasan','Architect'):47\n",
        "})"
      ],
      "metadata": {
        "id": "Lm-cjcABtnEy"
      },
      "execution_count": 6,
      "outputs": []
    },
    {
      "cell_type": "code",
      "source": [
        "# declare and initialize model\n",
        "\n",
        "m= Model('RAP')"
      ],
      "metadata": {
        "colab": {
          "base_uri": "https://localhost:8080/"
        },
        "id": "6e2bFM-nvAmg",
        "outputId": "384307fc-2bbb-4bd7-a704-ca909d9e9df3"
      },
      "execution_count": 8,
      "outputs": [
        {
          "output_type": "stream",
          "name": "stdout",
          "text": [
            "Restricted license - for non-production use only - expires 2024-10-28\n"
          ]
        }
      ]
    },
    {
      "cell_type": "code",
      "source": [
        "#create decision vars\n",
        "\n",
        "x = m.addVars(combinations,name =\"assign\")"
      ],
      "metadata": {
        "id": "Bj-7_T5cvoFX"
      },
      "execution_count": 9,
      "outputs": []
    },
    {
      "cell_type": "code",
      "source": [
        "#constraints\n",
        "#job constraints\n",
        "'''\n",
        "for every x,y key value pair in combinations multidict for each job sum is equal to 1\n",
        "eg. kumaran,tester + velan,tester + arasan,tester = 1\n",
        "    kumaran,dev +....+ arasan,dev=1\n",
        "'''\n",
        "job = m.addConstrs((x.sum('*',j)==1 for j in J),'job')\n",
        "\n",
        "\n"
      ],
      "metadata": {
        "id": "Jqpcz8qiwg6U"
      },
      "execution_count": 13,
      "outputs": []
    },
    {
      "cell_type": "code",
      "source": [
        "#resource constraints\n",
        "# every resource can maximum be assigned 1 job\n",
        "\n",
        "resource = m.addConstrs((x.sum(r,'*') <=1 for r in R),'resource')"
      ],
      "metadata": {
        "id": "GLTnfxNMzJx-"
      },
      "execution_count": 14,
      "outputs": []
    },
    {
      "cell_type": "code",
      "source": [
        "#obj is to max total matching score of assignments\n",
        "\n",
        "'''\n",
        "eg  Max (53 x11 +80 x21 + 53 x31) + ( ) + ( )\n",
        "GRB.MAXIMIZE - GUROBI MAXIMIZE\n",
        "prod()\n",
        "'''\n",
        "m.setObjective(x.prod(ms),GRB.MAXIMIZE)"
      ],
      "metadata": {
        "id": "NKlRobGyzh83"
      },
      "execution_count": 15,
      "outputs": []
    },
    {
      "cell_type": "code",
      "source": [
        "#save model for inspection\n",
        "\n",
        "m.write('RAP.lp')"
      ],
      "metadata": {
        "id": "qiLYfB_U1C_0"
      },
      "execution_count": null,
      "outputs": []
    },
    {
      "cell_type": "code",
      "source": [
        "#run model\n",
        "m.optimize()"
      ],
      "metadata": {
        "colab": {
          "base_uri": "https://localhost:8080/"
        },
        "id": "xYgO9I2J1H3g",
        "outputId": "25013146-4a73-471d-ab48-818e658865a5"
      },
      "execution_count": 16,
      "outputs": [
        {
          "output_type": "stream",
          "name": "stdout",
          "text": [
            "Gurobi Optimizer version 10.0.2 build v10.0.2rc0 (linux64)\n",
            "\n",
            "CPU model: Intel(R) Xeon(R) CPU @ 2.20GHz, instruction set [SSE2|AVX|AVX2]\n",
            "Thread count: 1 physical cores, 2 logical processors, using up to 2 threads\n",
            "\n",
            "Optimize a model with 9 rows, 9 columns and 27 nonzeros\n",
            "Model fingerprint: 0xa4a1434c\n",
            "Coefficient statistics:\n",
            "  Matrix range     [1e+00, 1e+00]\n",
            "  Objective range  [1e+01, 8e+01]\n",
            "  Bounds range     [0e+00, 0e+00]\n",
            "  RHS range        [1e+00, 1e+00]\n",
            "Presolve removed 3 rows and 0 columns\n",
            "Presolve time: 0.01s\n",
            "Presolved: 6 rows, 9 columns, 18 nonzeros\n",
            "\n",
            "Iteration    Objective       Primal Inf.    Dual Inf.      Time\n",
            "       0    2.2000000e+02   1.000000e+00   0.000000e+00      0s\n",
            "       2    1.9300000e+02   0.000000e+00   0.000000e+00      0s\n",
            "\n",
            "Solved in 2 iterations and 0.02 seconds (0.00 work units)\n",
            "Optimal objective  1.930000000e+02\n"
          ]
        }
      ]
    },
    {
      "cell_type": "code",
      "source": [
        "def print_solution(model):\n",
        "   for var in model.getVars():\n",
        "     if abs(var.x) >1e-6:\n",
        "       print(\"{0}:{1}\".format(var.varName,var.x))\n",
        "   print('Total matching score:{0}'.format(model.objVal))\n",
        "   return None\n",
        "\n",
        "#display optimal values for decision vars\n",
        "\n",
        "print_solution(m)"
      ],
      "metadata": {
        "colab": {
          "base_uri": "https://localhost:8080/"
        },
        "id": "M8iGSUoz1T9d",
        "outputId": "b2b4c9a5-f683-48e2-b4fe-2a1daf01121e"
      },
      "execution_count": 17,
      "outputs": [
        {
          "output_type": "stream",
          "name": "stdout",
          "text": [
            "assign[kumaran,Tester]:1.0\n",
            "assign[velan,Architect]:1.0\n",
            "assign[arasan,Dev]:1.0\n",
            "Total matching score:193.0\n"
          ]
        }
      ]
    },
    {
      "cell_type": "markdown",
      "source": [],
      "metadata": {
        "id": "9d5nJuMc2CH3"
      }
    }
  ]
}
