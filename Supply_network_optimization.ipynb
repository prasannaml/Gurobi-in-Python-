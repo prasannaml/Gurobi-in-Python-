{
  "nbformat": 4,
  "nbformat_minor": 0,
  "metadata": {
    "colab": {
      "provenance": [],
      "authorship_tag": "ABX9TyNQBnYU7sGCA0csHQTnkC1A",
      "include_colab_link": true
    },
    "kernelspec": {
      "name": "python3",
      "display_name": "Python 3"
    },
    "language_info": {
      "name": "python"
    }
  },
  "cells": [
    {
      "cell_type": "markdown",
      "metadata": {
        "id": "view-in-github",
        "colab_type": "text"
      },
      "source": [
        "<a href=\"https://colab.research.google.com/github/prasannaml/Gurobi-in-Python-/blob/main/Supply_network_optimization.ipynb\" target=\"_parent\"><img src=\"https://colab.research.google.com/assets/colab-badge.svg\" alt=\"Open In Colab\"/></a>"
      ]
    },
    {
      "cell_type": "markdown",
      "source": [
        "# Simple Supply Network optimization example\n",
        "\n",
        "## Objective and Prerequisites\n",
        "\n",
        "Given a set of dairy farms,storage facilities and stores we will use mathematical optimization to determine the best way to satisfy demand while minimizing shipping costs.\n",
        "  \n",
        "\n"
      ],
      "metadata": {
        "id": "DKeRMF9955Il"
      }
    },
    {
      "cell_type": "markdown",
      "source": [
        "# Problem Description\n",
        "\n",
        "We have six stores who are end customers for the dairy farm company. Demand can be satisfied from the 4 depots or directly from the two farms.Each depot can support a maximum volume of dairy through it and each\n",
        "farm can produce a maximum amount of dairy in a day.There are known costs associated with transporting the dairy, from a farm to a depot, from a depot to a store, or from a farm directly to a store.\n",
        "\n",
        "Two farms are in Lansdale PA and West Haven  CT\n",
        "\n",
        "| Farm | Supply (gallons) |\n",
        "| --- | --- |\n",
        "| Lansdale | 150,000 |\n",
        "| West Haven |  200,000 |\n",
        "\n",
        "The dairy can be shipped from a factory to a set of four depots. Each depot has a maximum throughput. Depots don't produce or consume the product; they simply pass the product on to customers.\n",
        "\n",
        "\n",
        "\n",
        "| Depot | Throughput (gallons) |\n",
        "| --- | --- |\n",
        "| Philadelphia | 70,000 |\n",
        "| Pittsburgh | 50,000 |\n",
        "| New York  | 100,000 |\n",
        "| Boston | 40,000 |\n"
      ],
      "metadata": {
        "id": "XNWqoAab6Vvc"
      }
    },
    {
      "cell_type": "markdown",
      "source": [
        "\n",
        "\n",
        "Our network has six stores, each with a given demand.\n",
        "\n",
        "| Store | Demand (gallons) |\n",
        "| --- | --- |\n",
        "| S1 | 50,000 |\n",
        "| S2 | 10,000 |\n",
        "| S3 | 40,000 |\n",
        "| S4 | 35,000 |\n",
        "| S5 | 60,000 |\n",
        "| S6 | 20,000 |\n",
        "\n",
        "\n",
        "Shipping costs are given in the following table (in dollars per gallon). Columns are source cities and rows are destination cities. Thus, for example, it costs $1 per gallon to ship the product from Lansdale to NYC. A '-' in the table indicates that that combination is not possible, so for example it is not possible to ship from the factory in West Haven to the depot in Philadelphia.\n",
        "\n",
        "\n",
        "| To | Lansdale | WestHaven | Philadelphia | Pittsburgh | New York | Boston |\n",
        "| --- | --- | --- | --- | --- | --- | --- |\n",
        "| Depots |\n",
        "| Philadelphia  | 0.5 |   - |\n",
        "| Pittsburgh | 0.5 | 0.3 |\n",
        "| New York     | 1.0 | 0.5 |\n",
        "| Boston     | 0.2 | 0.2 |\n",
        "| Customers |\n",
        "| S1 | 1.0 | 2.0 |   - | 1.0 |   - |   - |\n",
        "| S2 |   - |   - | 1.5 | 0.5 | 1.5 |   - |\n",
        "| S3 | 1.5 |   - | 0.5 | 0.5 | 2.0 | 0.2 |\n",
        "| S4 | 2.0 |   - | 1.5 | 1.0 |   - | 1.5 |\n",
        "| S5 |   - |   - |   - | 0.5 | 0.5 | 0.5 |\n",
        "| S6 | 1.0 |   - | 1.0 |   - | 1.5 | 1.5 |\n",
        "\n",
        "\n",
        "The question to be answered is how to satisfy the demands of the end customers while minimizing shipping costs."
      ],
      "metadata": {
        "id": "7Z8VwTjl8NYN"
      }
    },
    {
      "cell_type": "markdown",
      "source": [
        "## Model Formulation\n",
        "\n",
        "### Sets and Indices\n",
        "\n",
        "$f \\in \\text{Farms}=\\{\\text{Lansdale}, \\text{West Haven}\\}$\n",
        "\n",
        "$d \\in \\text{Depots}=\\{\\text{Philadelphia}, \\text{Pittsburgh}, \\text{New York}, \\text{Boston}\\}$\n",
        "\n",
        "$c \\in \\text{Stores}=\\{\\text{S1}, \\text{S2}, \\text{S3}, \\text{S4}, \\text{S5}, \\text{S6}\\}$\n",
        "\n",
        "$\\text{Cities} = \\text{Farms} \\cup \\text{Depots} \\cup \\text{Stores}$\n",
        "\n",
        "### Parameters\n",
        "\n",
        "$\\text{cost}_{s,t} \\in \\mathbb{R}^+$: Cost of shipping one gallon from source $s$ to destination $t$.\n",
        "\n",
        "$\\text{supply}_f \\in \\mathbb{R}^+$: Maximum possible supply from farm $f$ (in gallons).\n",
        "\n",
        "$\\text{through}_d \\in \\mathbb{R}^+$: Maximum possible flow through depot $d$ (in gallons).\n",
        "\n",
        "$\\text{demand}_c \\in \\mathbb{R}^+$: Demand for goods at stores $c$ (in gallons).\n",
        "\n",
        "### Decision Variables\n",
        "\n",
        "$\\text{flow}_{s,t} \\in \\mathbb{N}^+$: Quantity of goods (in gallons) that is shipped from source $s$ to destionation $t$.\n",
        "\n",
        "\n",
        "### Objective Function\n",
        "\n",
        "- **Cost**: Minimize total shipping costs.\n",
        "\n",
        "\\begin{equation}\n",
        "\\text{Minimize} \\quad Z = \\sum_{(s,t) \\in \\text{Cities} \\times \\text{Cities}}{\\text{cost}_{s,t}*\\text{flow}_{s,t}}\n",
        "\\end{equation}\n",
        "\n",
        "### Constraints\n",
        "\n",
        "- **Farm output**: Flow of goods from a farm must respect maximum capacity.\n",
        "\n",
        "\\begin{equation}\n",
        "\\sum_{t \\in \\text{Cities}}{\\text{flow}_{f,t}} \\leq \\text{supply}_{f} \\quad \\forall f \\in \\text{Factories}\n",
        "\\end{equation}\n",
        "\n",
        "- **Customer demand**: Flow of goods must meet customer demand.\n",
        "\n",
        "\\begin{equation}\n",
        "\\sum_{s \\in \\text{Cities}}{\\text{flow}_{s,c}} = \\text{demand}_{c} \\quad \\forall c \\in \\text{Customers}\n",
        "\\end{equation}\n",
        "\n",
        "- **Depot flow**: Flow into a depot equals flow out of the depot.\n",
        "\n",
        "\\begin{equation}\n",
        "\\sum_{s \\in \\text{Cities}}{\\text{flow}_{s,d}} =\n",
        "\\sum_{t \\in \\text{Cities}}{\\text{flow}_{d,t}}\n",
        "\\quad \\forall d \\in \\text{Depots}\n",
        "\\end{equation}\n",
        "\n",
        "- **Depot capacity**: Flow into a depot must respect depot capacity.\n",
        "\n",
        "\\begin{equation}\n",
        "\\sum_{s \\in \\text{Cities}}{\\text{flow}_{s,d}} \\leq \\text{through}_{d}\n",
        "\\quad \\forall d \\in \\text{Depots}\n",
        "\\end{equation}"
      ],
      "metadata": {
        "id": "C7_We4yUkfVR"
      }
    },
    {
      "cell_type": "markdown",
      "source": [],
      "metadata": {
        "id": "9giwSXaP6KD7"
      }
    },
    {
      "cell_type": "code",
      "source": [
        "%pip install gurobipy\n",
        "\n",
        "import pandas as pd\n",
        "import gurobipy  as gp\n",
        "from gurobipy import GRB"
      ],
      "metadata": {
        "colab": {
          "base_uri": "https://localhost:8080/"
        },
        "id": "f8bAWc1tnGDU",
        "outputId": "126d0bdb-0b87-40fd-e6db-d65dfa080a18"
      },
      "execution_count": 1,
      "outputs": [
        {
          "output_type": "stream",
          "name": "stdout",
          "text": [
            "Collecting gurobipy\n",
            "  Downloading gurobipy-10.0.3-cp310-cp310-manylinux2014_x86_64.whl (12.7 MB)\n",
            "\u001b[2K     \u001b[90m━━━━━━━━━━━━━━━━━━━━━━━━━━━━━━━━━━━━━━━━\u001b[0m \u001b[32m12.7/12.7 MB\u001b[0m \u001b[31m75.8 MB/s\u001b[0m eta \u001b[36m0:00:00\u001b[0m\n",
            "\u001b[?25hInstalling collected packages: gurobipy\n",
            "Successfully installed gurobipy-10.0.3\n"
          ]
        }
      ]
    },
    {
      "cell_type": "code",
      "source": [
        "## INPUT DATA"
      ],
      "metadata": {
        "id": "s4rRfaQbnRvG"
      },
      "execution_count": null,
      "outputs": []
    },
    {
      "cell_type": "code",
      "source": [
        "#dictionaries to store supply,depot throughput and store demand\n",
        "\n",
        "supply = dict({\"Lansdale\": 150000,\n",
        "              \"West Haven\": 200000})\n",
        "through = dict({\"Philadelphia\":70000,\n",
        "                \"Pittsburgh\":50000,\n",
        "                \"New York\":100000,\n",
        "                \"Boston\":40000})\n",
        "\n",
        "demand= dict({ 'S1': 50000,\n",
        "               'S2': 10000,\n",
        "               'S3': 40000,\n",
        "               'S4': 35000,\n",
        "               'S5': 60000,\n",
        "               'S6': 20000})\n",
        "\n",
        "\n",
        "arcs,cost = gp.multidict({\n",
        "    ('Lansdale', 'Philadelphia'): 0.5,\n",
        "    ('Lansdale', 'Pittsburgh'): 0.5,\n",
        "    ('Lansdale', 'New York'): 1.0,\n",
        "    ('Lansdale', 'Boston'): 0.2,\n",
        "    ('Lansdale', 'S1'): 1.0,\n",
        "    ('Lansdale', 'S3'): 1.5,\n",
        "    ('Lansdale', 'S4'): 2.0,\n",
        "    ('Lansdale', 'S6'): 1.0,\n",
        "    ('West Haven', 'Pittsburgh'): 0.3,\n",
        "    ('West Haven', 'New York'): 0.5,\n",
        "    ('West Haven', 'Boston'): 0.2,\n",
        "    ('West Haven', 'S1'): 2.0,\n",
        "    ('Philadelphia', 'S2'): 1.5,\n",
        "    ('Philadelphia', 'S3'): 0.5,\n",
        "    ('Philadelphia', 'S5'): 1.5,\n",
        "    ('Philadelphia', 'S6'): 1.0,\n",
        "    ('Pittsburgh', 'S1'): 1.0,\n",
        "    ('Pittsburgh', 'S2'): 0.5,\n",
        "    ('Pittsburgh', 'S3'): 0.5,\n",
        "    ('Pittsburgh', 'S4'): 1.0,\n",
        "    ('Pittsburgh', 'S5'): 0.5,\n",
        "    ('New York', 'S2'): 1.5,\n",
        "    ('New York', 'S3'): 2.0,\n",
        "    ('New York', 'S5'): 0.5,\n",
        "    ('New York', 'S6'): 1.5,\n",
        "    ('Boston', 'S3'): 0.2,\n",
        "    ('Boston', 'S4'): 1.5,\n",
        "    ('Boston', 'S5'): 0.5,\n",
        "    ('Boston', 'S6'): 1.5\n",
        "\n",
        "\n",
        "})"
      ],
      "metadata": {
        "id": "eRL8V3MUnXAO"
      },
      "execution_count": 2,
      "outputs": []
    },
    {
      "cell_type": "code",
      "source": [
        "## Model Deployment"
      ],
      "metadata": {
        "id": "UJflm1r3rGdA"
      },
      "execution_count": null,
      "outputs": []
    },
    {
      "cell_type": "code",
      "source": [
        "model =gp.Model('SupplyNetworkDesign')\n",
        "ship = model.addVars(arcs,obj=cost,name=\"ship\") # adding variables for decision variables and objective is optimizing cost variable"
      ],
      "metadata": {
        "colab": {
          "base_uri": "https://localhost:8080/"
        },
        "id": "Kh2o_8S7rIuC",
        "outputId": "e0adebd2-dfbb-41dd-f71d-886d20e0c5de"
      },
      "execution_count": 4,
      "outputs": [
        {
          "output_type": "stream",
          "name": "stdout",
          "text": [
            "Restricted license - for non-production use only - expires 2024-10-28\n"
          ]
        }
      ]
    },
    {
      "cell_type": "code",
      "source": [
        "ship"
      ],
      "metadata": {
        "colab": {
          "base_uri": "https://localhost:8080/"
        },
        "id": "mJSCHitc12du",
        "outputId": "5791c1c3-f4d6-4e2e-90f0-3c5280ae54df"
      },
      "execution_count": 12,
      "outputs": [
        {
          "output_type": "execute_result",
          "data": {
            "text/plain": [
              "{('Lansdale', 'Philadelphia'): <gurobi.Var *Awaiting Model Update*>,\n",
              " ('Lansdale', 'Pittsburgh'): <gurobi.Var *Awaiting Model Update*>,\n",
              " ('Lansdale', 'New York'): <gurobi.Var *Awaiting Model Update*>,\n",
              " ('Lansdale', 'Boston'): <gurobi.Var *Awaiting Model Update*>,\n",
              " ('Lansdale', 'S1'): <gurobi.Var *Awaiting Model Update*>,\n",
              " ('Lansdale', 'S3'): <gurobi.Var *Awaiting Model Update*>,\n",
              " ('Lansdale', 'S4'): <gurobi.Var *Awaiting Model Update*>,\n",
              " ('Lansdale', 'S6'): <gurobi.Var *Awaiting Model Update*>,\n",
              " ('West Haven', 'Pittsburgh'): <gurobi.Var *Awaiting Model Update*>,\n",
              " ('West Haven', 'New York'): <gurobi.Var *Awaiting Model Update*>,\n",
              " ('West Haven', 'Boston'): <gurobi.Var *Awaiting Model Update*>,\n",
              " ('West Haven', 'S1'): <gurobi.Var *Awaiting Model Update*>,\n",
              " ('Philadelphia', 'S2'): <gurobi.Var *Awaiting Model Update*>,\n",
              " ('Philadelphia', 'S3'): <gurobi.Var *Awaiting Model Update*>,\n",
              " ('Philadelphia', 'S5'): <gurobi.Var *Awaiting Model Update*>,\n",
              " ('Philadelphia', 'S6'): <gurobi.Var *Awaiting Model Update*>,\n",
              " ('Pittsburgh', 'S1'): <gurobi.Var *Awaiting Model Update*>,\n",
              " ('Pittsburgh', 'S2'): <gurobi.Var *Awaiting Model Update*>,\n",
              " ('Pittsburgh', 'S3'): <gurobi.Var *Awaiting Model Update*>,\n",
              " ('Pittsburgh', 'S4'): <gurobi.Var *Awaiting Model Update*>,\n",
              " ('Pittsburgh', 'S5'): <gurobi.Var *Awaiting Model Update*>,\n",
              " ('New York', 'S2'): <gurobi.Var *Awaiting Model Update*>,\n",
              " ('New York', 'S3'): <gurobi.Var *Awaiting Model Update*>,\n",
              " ('New York', 'S5'): <gurobi.Var *Awaiting Model Update*>,\n",
              " ('New York', 'S6'): <gurobi.Var *Awaiting Model Update*>,\n",
              " ('Boston', 'S3'): <gurobi.Var *Awaiting Model Update*>,\n",
              " ('Boston', 'S4'): <gurobi.Var *Awaiting Model Update*>,\n",
              " ('Boston', 'S5'): <gurobi.Var *Awaiting Model Update*>,\n",
              " ('Boston', 'S6'): <gurobi.Var *Awaiting Model Update*>}"
            ]
          },
          "metadata": {},
          "execution_count": 12
        }
      ]
    },
    {
      "cell_type": "code",
      "source": [
        "# Dairy production constraint\n",
        "\n",
        "farms= supply.keys()\n",
        "\n",
        "farms_ship = model.addConstrs((gp.quicksum(ship.select(farm,'*'))<= supply[farm] for farm in farms),name=\"farm\")"
      ],
      "metadata": {
        "id": "vVCVRAkyrrmS"
      },
      "execution_count": 5,
      "outputs": []
    },
    {
      "cell_type": "code",
      "source": [
        "# store demand constraint\n",
        "\n",
        "stores = demand.keys()\n",
        "\n",
        "stores_ship = model.addConstrs((gp.quicksum(ship.select('*',store))==demand[store] for store in stores), name =\"storedemand\")\n"
      ],
      "metadata": {
        "id": "9j_YsBMhymju"
      },
      "execution_count": 8,
      "outputs": []
    },
    {
      "cell_type": "code",
      "source": [
        "#depot through capacity\n",
        "\n",
        "depots =through.keys()\n",
        "\n",
        "depot_capacity = model.addConstrs((gp.quicksum(ship.select('*',depot))<= through[depot] for depot in depots),name=\"depotthrough\" )"
      ],
      "metadata": {
        "id": "F0XaZB_0zOu3"
      },
      "execution_count": 9,
      "outputs": []
    },
    {
      "cell_type": "code",
      "source": [
        "#depot in equal to out\n",
        "\n",
        "depot_in_out = model.addConstrs((gp.quicksum(ship.select(depot,'*'))== gp.quicksum(ship.select('*',depot)) for depot in depots),name=\"depotequal\")"
      ],
      "metadata": {
        "id": "qTDy7QeYz5LS"
      },
      "execution_count": 10,
      "outputs": []
    },
    {
      "cell_type": "code",
      "source": [
        "#optimize model\n",
        "\n",
        "\n",
        "model.optimize()"
      ],
      "metadata": {
        "colab": {
          "base_uri": "https://localhost:8080/"
        },
        "id": "evq4LXjE1o6I",
        "outputId": "9b7f4f47-33ac-4741-cac2-e2e5fa3504db"
      },
      "execution_count": 13,
      "outputs": [
        {
          "output_type": "stream",
          "name": "stdout",
          "text": [
            "Gurobi Optimizer version 10.0.3 build v10.0.3rc0 (linux64)\n",
            "\n",
            "CPU model: Intel(R) Xeon(R) CPU @ 2.20GHz, instruction set [SSE2|AVX|AVX2]\n",
            "Thread count: 1 physical cores, 2 logical processors, using up to 2 threads\n",
            "\n",
            "Optimize a model with 16 rows, 29 columns and 65 nonzeros\n",
            "Model fingerprint: 0xa543cd23\n",
            "Coefficient statistics:\n",
            "  Matrix range     [1e+00, 1e+00]\n",
            "  Objective range  [2e-01, 2e+00]\n",
            "  Bounds range     [0e+00, 0e+00]\n",
            "  RHS range        [1e+04, 2e+05]\n",
            "Presolve removed 1 rows and 0 columns\n",
            "Presolve time: 0.02s\n",
            "Presolved: 15 rows, 29 columns, 64 nonzeros\n",
            "\n",
            "Iteration    Objective       Primal Inf.    Dual Inf.      Time\n",
            "       0    1.4800000e+05   1.812500e+04   0.000000e+00      0s\n",
            "       7    1.9850000e+05   0.000000e+00   0.000000e+00      0s\n",
            "\n",
            "Solved in 7 iterations and 0.03 seconds (0.00 work units)\n",
            "Optimal objective  1.985000000e+05\n"
          ]
        }
      ]
    },
    {
      "cell_type": "code",
      "source": [
        "model.objval"
      ],
      "metadata": {
        "colab": {
          "base_uri": "https://localhost:8080/"
        },
        "id": "Pyc0M6ms8T5o",
        "outputId": "23232804-3a81-43ed-c149-2540a04e9f05"
      },
      "execution_count": 21,
      "outputs": [
        {
          "output_type": "execute_result",
          "data": {
            "text/plain": [
              "198500.0"
            ]
          },
          "metadata": {},
          "execution_count": 21
        }
      ]
    },
    {
      "cell_type": "markdown",
      "source": [
        "Our total costs is optimized to be $198500\n"
      ],
      "metadata": {
        "id": "oyH-kiEs855R"
      }
    },
    {
      "cell_type": "code",
      "source": [
        "#shipping order and combinations of solution\n",
        "\n",
        "ship_order = pd.DataFrame(columns=[\"From\",\"To\",\"Volume\"])\n",
        "for arc in arcs:\n",
        "  if ship[arc].x>0:\n",
        "    ship_order = ship_order.append({\"From\":arc[0],\"To\":arc[1],\"Volume\":ship[arc].x},ignore_index=True)\n",
        "ship_order.index =[''] * len(ship_order)\n",
        "ship_order\n",
        "\n"
      ],
      "metadata": {
        "colab": {
          "base_uri": "https://localhost:8080/",
          "height": 710
        },
        "id": "bFh_y5dZ2Cv2",
        "outputId": "429d9326-3535-46cf-ee0b-a38e72284d17"
      },
      "execution_count": 19,
      "outputs": [
        {
          "output_type": "stream",
          "name": "stderr",
          "text": [
            "<ipython-input-19-110297a68e29>:4: FutureWarning: The frame.append method is deprecated and will be removed from pandas in a future version. Use pandas.concat instead.\n",
            "  ship_order = ship_order.append({\"From\":arc[0],\"To\":arc[1],\"Volume\":ship[arc].x},ignore_index=True)\n",
            "<ipython-input-19-110297a68e29>:4: FutureWarning: The frame.append method is deprecated and will be removed from pandas in a future version. Use pandas.concat instead.\n",
            "  ship_order = ship_order.append({\"From\":arc[0],\"To\":arc[1],\"Volume\":ship[arc].x},ignore_index=True)\n",
            "<ipython-input-19-110297a68e29>:4: FutureWarning: The frame.append method is deprecated and will be removed from pandas in a future version. Use pandas.concat instead.\n",
            "  ship_order = ship_order.append({\"From\":arc[0],\"To\":arc[1],\"Volume\":ship[arc].x},ignore_index=True)\n",
            "<ipython-input-19-110297a68e29>:4: FutureWarning: The frame.append method is deprecated and will be removed from pandas in a future version. Use pandas.concat instead.\n",
            "  ship_order = ship_order.append({\"From\":arc[0],\"To\":arc[1],\"Volume\":ship[arc].x},ignore_index=True)\n",
            "<ipython-input-19-110297a68e29>:4: FutureWarning: The frame.append method is deprecated and will be removed from pandas in a future version. Use pandas.concat instead.\n",
            "  ship_order = ship_order.append({\"From\":arc[0],\"To\":arc[1],\"Volume\":ship[arc].x},ignore_index=True)\n",
            "<ipython-input-19-110297a68e29>:4: FutureWarning: The frame.append method is deprecated and will be removed from pandas in a future version. Use pandas.concat instead.\n",
            "  ship_order = ship_order.append({\"From\":arc[0],\"To\":arc[1],\"Volume\":ship[arc].x},ignore_index=True)\n",
            "<ipython-input-19-110297a68e29>:4: FutureWarning: The frame.append method is deprecated and will be removed from pandas in a future version. Use pandas.concat instead.\n",
            "  ship_order = ship_order.append({\"From\":arc[0],\"To\":arc[1],\"Volume\":ship[arc].x},ignore_index=True)\n",
            "<ipython-input-19-110297a68e29>:4: FutureWarning: The frame.append method is deprecated and will be removed from pandas in a future version. Use pandas.concat instead.\n",
            "  ship_order = ship_order.append({\"From\":arc[0],\"To\":arc[1],\"Volume\":ship[arc].x},ignore_index=True)\n",
            "<ipython-input-19-110297a68e29>:4: FutureWarning: The frame.append method is deprecated and will be removed from pandas in a future version. Use pandas.concat instead.\n",
            "  ship_order = ship_order.append({\"From\":arc[0],\"To\":arc[1],\"Volume\":ship[arc].x},ignore_index=True)\n",
            "<ipython-input-19-110297a68e29>:4: FutureWarning: The frame.append method is deprecated and will be removed from pandas in a future version. Use pandas.concat instead.\n",
            "  ship_order = ship_order.append({\"From\":arc[0],\"To\":arc[1],\"Volume\":ship[arc].x},ignore_index=True)\n"
          ]
        },
        {
          "output_type": "execute_result",
          "data": {
            "text/plain": [
              "        From          To   Volume\n",
              "    Lansdale          S1  50000.0\n",
              "    Lansdale          S6  20000.0\n",
              "  West Haven  Pittsburgh  50000.0\n",
              "  West Haven    New York  55000.0\n",
              "  West Haven      Boston  40000.0\n",
              "  Pittsburgh          S2  10000.0\n",
              "  Pittsburgh          S4  35000.0\n",
              "  Pittsburgh          S5   5000.0\n",
              "    New York          S5  55000.0\n",
              "      Boston          S3  40000.0"
            ],
            "text/html": [
              "\n",
              "  <div id=\"df-41b8f763-091c-4412-9a46-c12834b38e01\" class=\"colab-df-container\">\n",
              "    <div>\n",
              "<style scoped>\n",
              "    .dataframe tbody tr th:only-of-type {\n",
              "        vertical-align: middle;\n",
              "    }\n",
              "\n",
              "    .dataframe tbody tr th {\n",
              "        vertical-align: top;\n",
              "    }\n",
              "\n",
              "    .dataframe thead th {\n",
              "        text-align: right;\n",
              "    }\n",
              "</style>\n",
              "<table border=\"1\" class=\"dataframe\">\n",
              "  <thead>\n",
              "    <tr style=\"text-align: right;\">\n",
              "      <th></th>\n",
              "      <th>From</th>\n",
              "      <th>To</th>\n",
              "      <th>Volume</th>\n",
              "    </tr>\n",
              "  </thead>\n",
              "  <tbody>\n",
              "    <tr>\n",
              "      <th></th>\n",
              "      <td>Lansdale</td>\n",
              "      <td>S1</td>\n",
              "      <td>50000.0</td>\n",
              "    </tr>\n",
              "    <tr>\n",
              "      <th></th>\n",
              "      <td>Lansdale</td>\n",
              "      <td>S6</td>\n",
              "      <td>20000.0</td>\n",
              "    </tr>\n",
              "    <tr>\n",
              "      <th></th>\n",
              "      <td>West Haven</td>\n",
              "      <td>Pittsburgh</td>\n",
              "      <td>50000.0</td>\n",
              "    </tr>\n",
              "    <tr>\n",
              "      <th></th>\n",
              "      <td>West Haven</td>\n",
              "      <td>New York</td>\n",
              "      <td>55000.0</td>\n",
              "    </tr>\n",
              "    <tr>\n",
              "      <th></th>\n",
              "      <td>West Haven</td>\n",
              "      <td>Boston</td>\n",
              "      <td>40000.0</td>\n",
              "    </tr>\n",
              "    <tr>\n",
              "      <th></th>\n",
              "      <td>Pittsburgh</td>\n",
              "      <td>S2</td>\n",
              "      <td>10000.0</td>\n",
              "    </tr>\n",
              "    <tr>\n",
              "      <th></th>\n",
              "      <td>Pittsburgh</td>\n",
              "      <td>S4</td>\n",
              "      <td>35000.0</td>\n",
              "    </tr>\n",
              "    <tr>\n",
              "      <th></th>\n",
              "      <td>Pittsburgh</td>\n",
              "      <td>S5</td>\n",
              "      <td>5000.0</td>\n",
              "    </tr>\n",
              "    <tr>\n",
              "      <th></th>\n",
              "      <td>New York</td>\n",
              "      <td>S5</td>\n",
              "      <td>55000.0</td>\n",
              "    </tr>\n",
              "    <tr>\n",
              "      <th></th>\n",
              "      <td>Boston</td>\n",
              "      <td>S3</td>\n",
              "      <td>40000.0</td>\n",
              "    </tr>\n",
              "  </tbody>\n",
              "</table>\n",
              "</div>\n",
              "    <div class=\"colab-df-buttons\">\n",
              "\n",
              "  <div class=\"colab-df-container\">\n",
              "    <button class=\"colab-df-convert\" onclick=\"convertToInteractive('df-41b8f763-091c-4412-9a46-c12834b38e01')\"\n",
              "            title=\"Convert this dataframe to an interactive table.\"\n",
              "            style=\"display:none;\">\n",
              "\n",
              "  <svg xmlns=\"http://www.w3.org/2000/svg\" height=\"24px\" viewBox=\"0 -960 960 960\">\n",
              "    <path d=\"M120-120v-720h720v720H120Zm60-500h600v-160H180v160Zm220 220h160v-160H400v160Zm0 220h160v-160H400v160ZM180-400h160v-160H180v160Zm440 0h160v-160H620v160ZM180-180h160v-160H180v160Zm440 0h160v-160H620v160Z\"/>\n",
              "  </svg>\n",
              "    </button>\n",
              "\n",
              "  <style>\n",
              "    .colab-df-container {\n",
              "      display:flex;\n",
              "      gap: 12px;\n",
              "    }\n",
              "\n",
              "    .colab-df-convert {\n",
              "      background-color: #E8F0FE;\n",
              "      border: none;\n",
              "      border-radius: 50%;\n",
              "      cursor: pointer;\n",
              "      display: none;\n",
              "      fill: #1967D2;\n",
              "      height: 32px;\n",
              "      padding: 0 0 0 0;\n",
              "      width: 32px;\n",
              "    }\n",
              "\n",
              "    .colab-df-convert:hover {\n",
              "      background-color: #E2EBFA;\n",
              "      box-shadow: 0px 1px 2px rgba(60, 64, 67, 0.3), 0px 1px 3px 1px rgba(60, 64, 67, 0.15);\n",
              "      fill: #174EA6;\n",
              "    }\n",
              "\n",
              "    .colab-df-buttons div {\n",
              "      margin-bottom: 4px;\n",
              "    }\n",
              "\n",
              "    [theme=dark] .colab-df-convert {\n",
              "      background-color: #3B4455;\n",
              "      fill: #D2E3FC;\n",
              "    }\n",
              "\n",
              "    [theme=dark] .colab-df-convert:hover {\n",
              "      background-color: #434B5C;\n",
              "      box-shadow: 0px 1px 3px 1px rgba(0, 0, 0, 0.15);\n",
              "      filter: drop-shadow(0px 1px 2px rgba(0, 0, 0, 0.3));\n",
              "      fill: #FFFFFF;\n",
              "    }\n",
              "  </style>\n",
              "\n",
              "    <script>\n",
              "      const buttonEl =\n",
              "        document.querySelector('#df-41b8f763-091c-4412-9a46-c12834b38e01 button.colab-df-convert');\n",
              "      buttonEl.style.display =\n",
              "        google.colab.kernel.accessAllowed ? 'block' : 'none';\n",
              "\n",
              "      async function convertToInteractive(key) {\n",
              "        const element = document.querySelector('#df-41b8f763-091c-4412-9a46-c12834b38e01');\n",
              "        const dataTable =\n",
              "          await google.colab.kernel.invokeFunction('convertToInteractive',\n",
              "                                                    [key], {});\n",
              "        if (!dataTable) return;\n",
              "\n",
              "        const docLinkHtml = 'Like what you see? Visit the ' +\n",
              "          '<a target=\"_blank\" href=https://colab.research.google.com/notebooks/data_table.ipynb>data table notebook</a>'\n",
              "          + ' to learn more about interactive tables.';\n",
              "        element.innerHTML = '';\n",
              "        dataTable['output_type'] = 'display_data';\n",
              "        await google.colab.output.renderOutput(dataTable, element);\n",
              "        const docLink = document.createElement('div');\n",
              "        docLink.innerHTML = docLinkHtml;\n",
              "        element.appendChild(docLink);\n",
              "      }\n",
              "    </script>\n",
              "  </div>\n",
              "\n",
              "\n",
              "<div id=\"df-e633a240-e841-45f5-8273-c56a8328edd0\">\n",
              "  <button class=\"colab-df-quickchart\" onclick=\"quickchart('df-e633a240-e841-45f5-8273-c56a8328edd0')\"\n",
              "            title=\"Suggest charts.\"\n",
              "            style=\"display:none;\">\n",
              "\n",
              "<svg xmlns=\"http://www.w3.org/2000/svg\" height=\"24px\"viewBox=\"0 0 24 24\"\n",
              "     width=\"24px\">\n",
              "    <g>\n",
              "        <path d=\"M19 3H5c-1.1 0-2 .9-2 2v14c0 1.1.9 2 2 2h14c1.1 0 2-.9 2-2V5c0-1.1-.9-2-2-2zM9 17H7v-7h2v7zm4 0h-2V7h2v10zm4 0h-2v-4h2v4z\"/>\n",
              "    </g>\n",
              "</svg>\n",
              "  </button>\n",
              "\n",
              "<style>\n",
              "  .colab-df-quickchart {\n",
              "      --bg-color: #E8F0FE;\n",
              "      --fill-color: #1967D2;\n",
              "      --hover-bg-color: #E2EBFA;\n",
              "      --hover-fill-color: #174EA6;\n",
              "      --disabled-fill-color: #AAA;\n",
              "      --disabled-bg-color: #DDD;\n",
              "  }\n",
              "\n",
              "  [theme=dark] .colab-df-quickchart {\n",
              "      --bg-color: #3B4455;\n",
              "      --fill-color: #D2E3FC;\n",
              "      --hover-bg-color: #434B5C;\n",
              "      --hover-fill-color: #FFFFFF;\n",
              "      --disabled-bg-color: #3B4455;\n",
              "      --disabled-fill-color: #666;\n",
              "  }\n",
              "\n",
              "  .colab-df-quickchart {\n",
              "    background-color: var(--bg-color);\n",
              "    border: none;\n",
              "    border-radius: 50%;\n",
              "    cursor: pointer;\n",
              "    display: none;\n",
              "    fill: var(--fill-color);\n",
              "    height: 32px;\n",
              "    padding: 0;\n",
              "    width: 32px;\n",
              "  }\n",
              "\n",
              "  .colab-df-quickchart:hover {\n",
              "    background-color: var(--hover-bg-color);\n",
              "    box-shadow: 0 1px 2px rgba(60, 64, 67, 0.3), 0 1px 3px 1px rgba(60, 64, 67, 0.15);\n",
              "    fill: var(--button-hover-fill-color);\n",
              "  }\n",
              "\n",
              "  .colab-df-quickchart-complete:disabled,\n",
              "  .colab-df-quickchart-complete:disabled:hover {\n",
              "    background-color: var(--disabled-bg-color);\n",
              "    fill: var(--disabled-fill-color);\n",
              "    box-shadow: none;\n",
              "  }\n",
              "\n",
              "  .colab-df-spinner {\n",
              "    border: 2px solid var(--fill-color);\n",
              "    border-color: transparent;\n",
              "    border-bottom-color: var(--fill-color);\n",
              "    animation:\n",
              "      spin 1s steps(1) infinite;\n",
              "  }\n",
              "\n",
              "  @keyframes spin {\n",
              "    0% {\n",
              "      border-color: transparent;\n",
              "      border-bottom-color: var(--fill-color);\n",
              "      border-left-color: var(--fill-color);\n",
              "    }\n",
              "    20% {\n",
              "      border-color: transparent;\n",
              "      border-left-color: var(--fill-color);\n",
              "      border-top-color: var(--fill-color);\n",
              "    }\n",
              "    30% {\n",
              "      border-color: transparent;\n",
              "      border-left-color: var(--fill-color);\n",
              "      border-top-color: var(--fill-color);\n",
              "      border-right-color: var(--fill-color);\n",
              "    }\n",
              "    40% {\n",
              "      border-color: transparent;\n",
              "      border-right-color: var(--fill-color);\n",
              "      border-top-color: var(--fill-color);\n",
              "    }\n",
              "    60% {\n",
              "      border-color: transparent;\n",
              "      border-right-color: var(--fill-color);\n",
              "    }\n",
              "    80% {\n",
              "      border-color: transparent;\n",
              "      border-right-color: var(--fill-color);\n",
              "      border-bottom-color: var(--fill-color);\n",
              "    }\n",
              "    90% {\n",
              "      border-color: transparent;\n",
              "      border-bottom-color: var(--fill-color);\n",
              "    }\n",
              "  }\n",
              "</style>\n",
              "\n",
              "  <script>\n",
              "    async function quickchart(key) {\n",
              "      const quickchartButtonEl =\n",
              "        document.querySelector('#' + key + ' button');\n",
              "      quickchartButtonEl.disabled = true;  // To prevent multiple clicks.\n",
              "      quickchartButtonEl.classList.add('colab-df-spinner');\n",
              "      try {\n",
              "        const charts = await google.colab.kernel.invokeFunction(\n",
              "            'suggestCharts', [key], {});\n",
              "      } catch (error) {\n",
              "        console.error('Error during call to suggestCharts:', error);\n",
              "      }\n",
              "      quickchartButtonEl.classList.remove('colab-df-spinner');\n",
              "      quickchartButtonEl.classList.add('colab-df-quickchart-complete');\n",
              "    }\n",
              "    (() => {\n",
              "      let quickchartButtonEl =\n",
              "        document.querySelector('#df-e633a240-e841-45f5-8273-c56a8328edd0 button');\n",
              "      quickchartButtonEl.style.display =\n",
              "        google.colab.kernel.accessAllowed ? 'block' : 'none';\n",
              "    })();\n",
              "  </script>\n",
              "</div>\n",
              "    </div>\n",
              "  </div>\n"
            ]
          },
          "metadata": {},
          "execution_count": 19
        }
      ]
    }
  ]
}